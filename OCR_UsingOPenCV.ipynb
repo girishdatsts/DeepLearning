{
 "cells": [
  {
   "cell_type": "code",
   "execution_count": 3,
   "id": "54994009",
   "metadata": {},
   "outputs": [],
   "source": [
    "#imporing the required modules\n",
    "import cv2\n",
    "from time import sleep\n",
    "import requests\n",
    "import io\n",
    "import json\n",
    "import os\n",
    "import random\n",
    "from IPython.display import Image\n",
    "import warnings \n",
    "warnings.filterwarnings('ignore')"
   ]
  },
  {
   "cell_type": "code",
   "execution_count": 2,
   "id": "ed9accf1",
   "metadata": {
    "scrolled": true
   },
   "outputs": [
    {
     "name": "stdout",
     "output_type": "stream",
     "text": [
      "For Recognize Image PRESS 'S'\n",
      "For QUIT PRESS 'Q\n",
      "After run time if 'images.jpg' is still visible,Please re-run the program.\n",
      "\n",
      "Processing image...\n",
      "Image saved!\n",
      "Picture is Detected\n",
      "{\"ParsedResults\":[{\"TextOverlay\":{\"Lines\":[],\"HasOverlay\":false,\"Message\":\"Text overlay is not provided as it is not requested\"},\"TextOrientation\":\"0\",\"FileParseExitCode\":1,\"ParsedText\":\"WINNING FORMULAS\\r\\n\",\"ErrorMessage\":\"\",\"ErrorDetails\":\"\"}],\"OCRExitCode\":1,\"IsErroredOnProcessing\":false,\"ProcessingTimeInMilliseconds\":\"328\",\"SearchablePDFURL\":\"Searchable PDF not generated as it was not requested.\"}\n",
      "WINNING FORMULAS\n",
      "\n",
      "Text is writing to file...\n",
      "Operation is successful\n"
     ]
    }
   ],
   "source": [
    "key = cv2.waitKey(1)\n",
    "webcam = cv2.VideoCapture(0)\n",
    "sleep(2)\n",
    "\n",
    "print(\"For Recognize Image PRESS 'S'\\n\"\n",
    "      \"For QUIT PRESS 'Q\\n\"\n",
    "      \"After run time if 'images.jpg' is still visible,Please re-run the program.\\n\")\n",
    "\n",
    "while True:\n",
    "\n",
    "    try:\n",
    "        check, frame = webcam.read()\n",
    "#         print(check)  # prints true as long as the webcam is running\n",
    "#         print(frame)  # prints matrix values of each framecd\n",
    "        cv2.imshow(\"Capturing\", frame)\n",
    "        key = cv2.waitKey(1)\n",
    "        if key == ord('s'):\n",
    "            cv2.imwrite(filename='images.jpg', img=frame)\n",
    "            r = random.randint(1, 20000000)\n",
    "            img_file = 'images' + str(r) + '.jpg'\n",
    "            cv2.imwrite(filename='data/' + img_file, img=frame)\n",
    "            webcam.release()\n",
    "            print(\"Processing image...\")\n",
    "            img_ = cv2.imread('images.jpg', cv2.IMREAD_ANYCOLOR)\n",
    "            print(\"Image saved!\")\n",
    "            cv2.destroyAllWindows()\n",
    "            break\n",
    "\n",
    "        elif key == ord('q'):\n",
    "            webcam.release()\n",
    "            cv2.destroyAllWindows()\n",
    "            break\n",
    "\n",
    "    except KeyboardInterrupt:\n",
    "        print(\"Turning off camera.\")\n",
    "        webcam.release()\n",
    "        print(\"Camera off.\")\n",
    "        print(\"Program ended.\")\n",
    "        cv2.destroyAllWindows()\n",
    "        break\n",
    "\n",
    "sleep(2)\n",
    "resim = \"images.jpg\"\n",
    "img = cv2.imread(resim)\n",
    "print(\"Picture is Detected\")\n",
    "\n",
    "api = img\n",
    "\n",
    "# Ocr\n",
    "url_api = \"https://api.ocr.space/parse/image\"\n",
    "_, compressedimage = cv2.imencode(\".jpg\", api, [1, 90])\n",
    "file_bytes = io.BytesIO(compressedimage)\n",
    "\n",
    "result = requests.post(url_api,\n",
    "                       files={resim: file_bytes},\n",
    "                       data={\"apikey\": \"helloworld\",\n",
    "                             \"language\": \"eng\"})\n",
    "\n",
    "result = result.content.decode()\n",
    "print(result)\n",
    "result = json.loads(result)\n",
    "\n",
    "parsed_results = result.get(\"ParsedResults\")[0]\n",
    "text_detected = parsed_results.get(\"ParsedText\")\n",
    "print(text_detected)\n",
    "\n",
    "print(\"Text is writing to file...\")\n",
    "f = open(\"text_detected.txt\", \"a+\")\n",
    "f.write(text_detected)\n",
    "f.close()\n",
    "print(\"Operation is successful\")\n",
    "\n",
    "\n",
    "cv2.imshow(\"roi\", api)\n",
    "cv2.imshow(\"Img\", img)\n",
    "cv2.waitKey(2000)\n",
    "os.remove(resim)"
   ]
  },
  {
   "cell_type": "code",
   "execution_count": 4,
   "id": "deec3849",
   "metadata": {},
   "outputs": [
    {
     "data": {
      "image/png": "[encoded data removed]",
      "text/plain": [
       "<IPython.core.display.Image object>"
      ]
     },
     "execution_count": 4,
     "metadata": {
      "image/png": {
       "height": 400,
       "width": 400
      }
     },
     "output_type": "execute_result"
    }
   ],
   "source": [
    "#Display the output Window\n",
    "Image(filename='OCR_OutPut_Text.png',width=400, height=400)"
   ]
  },
  {
   "cell_type": "code",
   "execution_count": null,
   "id": "19bdca36",
   "metadata": {},
   "outputs": [],
   "source": []
  }
 ],
 "metadata": {
  "kernelspec": {
   "display_name": "Python 3",
   "language": "python",
   "name": "python3"
  },
  "language_info": {
   "codemirror_mode": {
    "name": "ipython",
    "version": 3
   },
   "file_extension": ".py",
   "mimetype": "text/x-python",
   "name": "python",
   "nbconvert_exporter": "python",
   "pygments_lexer": "ipython3",
   "version": "3.7.10"
  }
 },
 "nbformat": 4,
 "nbformat_minor": 5
}
